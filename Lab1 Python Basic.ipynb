{
 "cells": [
  {
   "cell_type": "code",
   "execution_count": 1,
   "id": "1d4fa536-6427-413e-b51e-e76111aae9d4",
   "metadata": {},
   "outputs": [
    {
     "name": "stdout",
     "output_type": "stream",
     "text": [
      "10\n",
      "<class 'int'>\n"
     ]
    }
   ],
   "source": [
    "a=10\n",
    "print(a)\n",
    "print(type(a))"
   ]
  },
  {
   "cell_type": "code",
   "execution_count": 17,
   "id": "0d97c775-272e-4d20-ad87-d41ff2368e53",
   "metadata": {},
   "outputs": [
    {
     "name": "stdout",
     "output_type": "stream",
     "text": [
      "True\n",
      "<class 'bool'>\n"
     ]
    }
   ],
   "source": [
    "c=True\n",
    "print(c)\n",
    "print(type(c))"
   ]
  },
  {
   "cell_type": "code",
   "execution_count": 15,
   "id": "2d6efc34-9256-4dd5-908d-dacb51e5f6b8",
   "metadata": {},
   "outputs": [
    {
     "name": "stdout",
     "output_type": "stream",
     "text": [
      "3.9\n",
      "<class 'float'>\n"
     ]
    }
   ],
   "source": [
    "b=3.9\n",
    "print(b)\n",
    "print(type(b))"
   ]
  },
  {
   "cell_type": "code",
   "execution_count": 20,
   "id": "acf74a5b-9552-4691-83e1-d29e66345582",
   "metadata": {},
   "outputs": [
    {
     "name": "stdout",
     "output_type": "stream",
     "text": [
      "I love AI\n",
      "<class 'str'>\n"
     ]
    }
   ],
   "source": [
    "s1=\"I love AI\"\n",
    "print(s1)\n",
    "print(type(s1))"
   ]
  },
  {
   "cell_type": "code",
   "execution_count": 26,
   "id": "1ddad15b-8c09-4df7-b25f-8601ff857948",
   "metadata": {},
   "outputs": [
    {
     "name": "stdout",
     "output_type": "stream",
     "text": [
      "o\n",
      "love\n"
     ]
    }
   ],
   "source": [
    "print(s1[3])\n",
    "print(s1[2:6]) # index slicing"
   ]
  },
  {
   "cell_type": "code",
   "execution_count": 24,
   "id": "7eb0fcc7-2239-4d5d-8eee-8df1ad4c4e33",
   "metadata": {},
   "outputs": [
    {
     "name": "stdout",
     "output_type": "stream",
     "text": [
      "9\n"
     ]
    }
   ],
   "source": [
    "print(len(s1))"
   ]
  },
  {
   "cell_type": "code",
   "execution_count": 30,
   "id": "cd023986-bc94-4ab7-8864-6cb67040b19a",
   "metadata": {},
   "outputs": [
    {
     "name": "stdout",
     "output_type": "stream",
     "text": [
      "I love Python\n",
      "I love Bangladesh\n"
     ]
    }
   ],
   "source": [
    "s1=\"I love Python\\n\"\n",
    "s2=\"I love Bangladesh\"\n",
    "print(s1+s2)"
   ]
  },
  {
   "cell_type": "code",
   "execution_count": 40,
   "id": "1bbc3d8d-dbe4-40b8-8615-1a72ce934d74",
   "metadata": {},
   "outputs": [
    {
     "name": "stdout",
     "output_type": "stream",
     "text": [
      "30\n",
      "-10\n",
      "200\n",
      "0.5\n",
      "0\n",
      "100\n",
      "10\n"
     ]
    }
   ],
   "source": [
    "'''\n",
    "Line 1\n",
    "Line 2\n",
    "'''\n",
    "a=10\n",
    "b=20\n",
    "print(a+b)\n",
    "print(a-b)\n",
    "print(a*b)\n",
    "print(a/b) # floating point division\n",
    "print(a//b) # integer division\n",
    "print(a**2)\n",
    "print(a%b)"
   ]
  },
  {
   "cell_type": "code",
   "execution_count": 43,
   "id": "d3ba0b0a-3c5b-49e6-bb77-5341e40235b9",
   "metadata": {},
   "outputs": [
    {
     "name": "stdout",
     "output_type": "stream",
     "text": [
      "False\n",
      "False\n",
      "True\n",
      "True\n",
      "False\n",
      "True\n"
     ]
    }
   ],
   "source": [
    "a=10\n",
    "b=20\n",
    "print(a>b)\n",
    "print(a>=b)\n",
    "print(a<b)\n",
    "print(a<=b)\n",
    "print(a==b)\n",
    "print(a!=b)"
   ]
  },
  {
   "cell_type": "code",
   "execution_count": 50,
   "id": "d65fc414-633e-4f93-ab94-b2bbfd017c0a",
   "metadata": {},
   "outputs": [
    {
     "name": "stdout",
     "output_type": "stream",
     "text": [
      "False\n",
      "True\n"
     ]
    }
   ],
   "source": [
    "a=10\n",
    "b=20\n",
    "c=2\n",
    "print((a>b) and (a>c))\n",
    "print((a>b) or (a>c))"
   ]
  },
  {
   "cell_type": "code",
   "execution_count": 55,
   "id": "26465893-8cb6-424a-9ebf-796cc9d2d4f8",
   "metadata": {},
   "outputs": [
    {
     "name": "stdout",
     "output_type": "stream",
     "text": [
      "a is gerater than 10\n",
      "I love python\n",
      "I love Bangladesh\n"
     ]
    }
   ],
   "source": [
    "a=20\n",
    "if a>10:\n",
    "    print(\"a is gerater than 10\")\n",
    "    print(\"I love python\")\n",
    "print(\"I love Bangladesh\")"
   ]
  },
  {
   "cell_type": "code",
   "execution_count": 2,
   "id": "09eda3f8-8cd2-40ea-9d57-aa63076f2fcb",
   "metadata": {},
   "outputs": [
    {
     "name": "stdout",
     "output_type": "stream",
     "text": [
      "I am adult\n"
     ]
    }
   ],
   "source": [
    "age=20\n",
    "if age>=18:\n",
    "    print(\"I am adult\")\n",
    "else:\n",
    "    print(\"I am not adult\")"
   ]
  },
  {
   "cell_type": "code",
   "execution_count": null,
   "id": "57dc6c45-8c6d-4f7b-a243-ee46c81aa7af",
   "metadata": {},
   "outputs": [
    {
     "name": "stdout",
     "output_type": "stream",
     "text": [
      "A+\n"
     ]
    }
   ],
   "source": [
    "marks =90\n",
    "if marks>=90:\n",
    "    print(\"A+\")\n",
    "elif marks>=85 and marks<90:\n",
    "    print(\"A\")\n",
    "else:\n",
    "    print(\"F\")"
   ]
  },
  {
   "cell_type": "code",
   "execution_count": 5,
   "id": "521e07be-31bf-4373-8f15-b82a4b69e795",
   "metadata": {},
   "outputs": [
    {
     "name": "stdout",
     "output_type": "stream",
     "text": [
      "71.4\n"
     ]
    }
   ],
   "source": [
    "number1=input(\"Enter number 1: \")\n",
    "number2=input(\"Enter Number 2: \")\n",
    "print(float(number1)+float(number2)) # type casting"
   ]
  },
  {
   "cell_type": "code",
   "execution_count": null,
   "id": "83703ab9-7b29-4055-91bb-050ccc009b84",
   "metadata": {},
   "outputs": [],
   "source": [
    "a=input(\"Enter CGPA:\")\n",
    "print(float(a))"
   ]
  },
  {
   "cell_type": "code",
   "execution_count": 1,
   "id": "6f63d5cc-8c1e-435a-ba51-1d0057bf27c7",
   "metadata": {},
   "outputs": [
    {
     "name": "stdout",
     "output_type": "stream",
     "text": [
      "0 1 2 3 4 5 6 7 8 9 10 11 12 13 14 "
     ]
    }
   ],
   "source": [
    "for i in range(15):\n",
    "    print(i,end=\" \")"
   ]
  },
  {
   "cell_type": "code",
   "execution_count": 84,
   "id": "d8078422-2d53-4108-ada2-59fc7e2fb684",
   "metadata": {},
   "outputs": [
    {
     "name": "stdout",
     "output_type": "stream",
     "text": [
      "2 3 4 5 6 7 8 9 "
     ]
    }
   ],
   "source": [
    "for i in range(2,10):\n",
    "    print(i,end=\" \")"
   ]
  },
  {
   "cell_type": "code",
   "execution_count": 5,
   "id": "2f21b5d6-72f6-4095-ab68-0c75a9d6043f",
   "metadata": {},
   "outputs": [
    {
     "name": "stdout",
     "output_type": "stream",
     "text": [
      "10 12 14 16 18 20 22 24 26 28 30 32 34 36 38 40 42 44 46 48 50 52 54 56 58 60 62 64 66 68 70 72 74 76 78 80 82 84 86 88 90 92 94 96 98 100 102 104 106 108 110 112 114 116 118 120 122 124 126 128 130 132 134 136 138 140 142 144 146 148 150 152 154 156 158 160 162 164 166 168 170 172 174 176 178 180 182 184 186 188 190 192 194 196 198 "
     ]
    }
   ],
   "source": [
    "for i in range(10,200,2):\n",
    "    print(i,end=\" \")"
   ]
  },
  {
   "cell_type": "code",
   "execution_count": 2,
   "id": "0fa960c3-3b86-4b20-9615-b993dbb90f45",
   "metadata": {},
   "outputs": [
    {
     "name": "stdout",
     "output_type": "stream",
     "text": [
      "Io tnnIo "
     ]
    }
   ],
   "source": [
    "s1=\"I love python and I love AI\"\n",
    "n=len(s1)\n",
    "for i in range(0,n,3):\n",
    "    print(s1[i],end=\"\")"
   ]
  },
  {
   "cell_type": "code",
   "execution_count": 3,
   "id": "a04f6598-ff7a-4bc6-84bc-ffb2c8f050e3",
   "metadata": {},
   "outputs": [
    {
     "name": "stdout",
     "output_type": "stream",
     "text": [
      "0\n",
      "1\n",
      "2\n",
      "3\n",
      "4\n",
      "5\n",
      "6\n",
      "7\n",
      "8\n",
      "9\n"
     ]
    }
   ],
   "source": [
    "i=0\n",
    "while i<10:\n",
    "    print(i)\n",
    "    i=i+1"
   ]
  },
  {
   "cell_type": "code",
   "execution_count": 108,
   "id": "6dfc131f-4351-4f80-9388-244ed22b599d",
   "metadata": {},
   "outputs": [
    {
     "name": "stdout",
     "output_type": "stream",
     "text": [
      "1->2->3->4->5->"
     ]
    }
   ],
   "source": [
    "for i in range(1,11):\n",
    "    if i==6:\n",
    "        break\n",
    "    print(i, end=\"->\")"
   ]
  },
  {
   "cell_type": "code",
   "execution_count": 2,
   "id": "ce0832f0-bd42-49ca-bf0a-ecd24bb06678",
   "metadata": {},
   "outputs": [
    {
     "name": "stdout",
     "output_type": "stream",
     "text": [
      "1->2->3->4->5->7->8->10->11->12->13->14->"
     ]
    }
   ],
   "source": [
    "for i in range(1,15):\n",
    "    if i==6 or i==9:\n",
    "        continue\n",
    "    print(i, end=\"->\")"
   ]
  },
  {
   "cell_type": "code",
   "execution_count": null,
   "id": "16f56000-245b-4783-a8c0-45dee5e0a035",
   "metadata": {},
   "outputs": [
    {
     "data": {
      "application/vnd.jupyter.widget-view+json": {
       "model_id": "46b45c39d484471d9c79bb301d9f6c14",
       "version_major": 2,
       "version_minor": 0
      },
      "text/plain": [
       "VBox(children=(Text(value='', description='number1'), Text(value='', description='number2'), Button(descriptio…"
      ]
     },
     "metadata": {},
     "output_type": "display_data"
    }
   ],
   "source": [
    "from ipywidgets import Text, Button, VBox, Output\n",
    "from IPython.display import display\n",
    "\n",
    "n1 = Text(description='number1')\n",
    "n2 = Text(description='number2')\n",
    "btn = Button(description='Add')\n",
    "out = Output()\n",
    "\n",
    "def on_click(_):\n",
    "    out.clear_output()\n",
    "    try:\n",
    "        a = int(n1.value)\n",
    "        b = int(n2.value)\n",
    "        with out:\n",
    "            print(a + b)\n",
    "    except Exception as e:\n",
    "        with out:\n",
    "            print(\"Error:\", e)\n",
    "\n",
    "btn.on_click(on_click)\n",
    "display(VBox([n1, n2, btn, out]))\n"
   ]
  },
  {
   "cell_type": "code",
   "execution_count": 1,
   "id": "fa13f488",
   "metadata": {},
   "outputs": [
    {
     "name": "stdout",
     "output_type": "stream",
     "text": [
      "Hi, fihab ifty\n"
     ]
    }
   ],
   "source": [
    "name = input(\"Your name: \")\n",
    "print(\"Hi,\", name)\n"
   ]
  }
 ],
 "metadata": {
  "kernelspec": {
   "display_name": "base",
   "language": "python",
   "name": "python3"
  },
  "language_info": {
   "codemirror_mode": {
    "name": "ipython",
    "version": 3
   },
   "file_extension": ".py",
   "mimetype": "text/x-python",
   "name": "python",
   "nbconvert_exporter": "python",
   "pygments_lexer": "ipython3",
   "version": "3.13.5"
  }
 },
 "nbformat": 4,
 "nbformat_minor": 5
}
